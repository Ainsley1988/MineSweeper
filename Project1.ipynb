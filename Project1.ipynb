{
  "nbformat": 4,
  "nbformat_minor": 0,
  "metadata": {
    "colab": {
      "provenance": [],
      "include_colab_link": true
    },
    "kernelspec": {
      "name": "python3",
      "display_name": "Python 3"
    },
    "language_info": {
      "name": "python"
    }
  },
  "cells": [
    {
      "cell_type": "markdown",
      "metadata": {
        "id": "view-in-github",
        "colab_type": "text"
      },
      "source": [
        "<a href=\"https://colab.research.google.com/github/Ainsley1988/MineSweeper/blob/main/Project1.ipynb\" target=\"_parent\"><img src=\"https://colab.research.google.com/assets/colab-badge.svg\" alt=\"Open In Colab\"/></a>"
      ]
    },
    {
      "cell_type": "markdown",
      "source": [
        "# Project 1\n",
        "# Malignant Lung Nodule Detection\n",
        "\n",
        "In this project, you will develop a deep learning model to classify lung nodules as benign or malignant from 3D CT scans, utilizing the LUNA16 dataset. This task involves data preprocessing, model design, training, and evaluation, offering hands-on experience with medical image analysis and deep learning in PyTorch."
      ],
      "metadata": {
        "id": "zMsKSGzE-xrU"
      }
    },
    {
      "cell_type": "markdown",
      "source": [
        "## 1. Create Annotation Data\n",
        "As the first step, we will need to load the annotation data from Kaggle's data page: [Luna 16 Lung Cancer Dataset on Kaggle](https://www.kaggle.com/datasets/fanbyprinciple/luna-lung-cancer-dataset)"
      ],
      "metadata": {
        "id": "8AH64fuG-5UD"
      }
    },
    {
      "cell_type": "markdown",
      "source": [
        "1.1 Download the annotation dataset from Kaggle."
      ],
      "metadata": {
        "id": "Y8vGiTr1--0k"
      }
    },
    {
      "cell_type": "code",
      "source": [],
      "metadata": {
        "id": "0LKF_pUN_Ns6"
      },
      "execution_count": null,
      "outputs": []
    },
    {
      "cell_type": "markdown",
      "source": [
        "1.2 Load the `candidates_V2.csv` file as a data frame. Display the first 5 rows."
      ],
      "metadata": {
        "id": "C1oLG8_j_OS6"
      }
    },
    {
      "cell_type": "code",
      "source": [],
      "metadata": {
        "id": "T8AirC6B_U7_"
      },
      "execution_count": null,
      "outputs": []
    },
    {
      "cell_type": "markdown",
      "source": [
        "1.3 Display the number of class 0 (benign) records and the number of class 1 (malignant) records. Your results should indicate that the two classes are highly imbalanced."
      ],
      "metadata": {
        "id": "YLaFfZiE_VLa"
      }
    },
    {
      "cell_type": "code",
      "source": [],
      "metadata": {
        "id": "iwNl0uwq_pFI"
      },
      "execution_count": null,
      "outputs": []
    },
    {
      "cell_type": "markdown",
      "source": [
        "## 2. Find Nodule Locations\n",
        "In the annotation dataset, the center of each identified lung nodule is marked with its 3D coordinates. We need to convert these coordinates into three indices to identify the specific subarray in each CT scan tensor that corresponds to the nodule.\n",
        "\n",
        "Please follow the steps outlined in the LUNA16DataPreparation notebook to generate a CSV file named `candidates_processed.csv`, which will store the indices for the center of each lung nodule."
      ],
      "metadata": {
        "id": "9YVauM4MA3-i"
      }
    },
    {
      "cell_type": "markdown",
      "source": [
        "2.1 Load the `subset0.zip` from Google Drive using the file ID '1OFa8UhDvCrcTj1VkFLa7RjifEqMD4TAa'. Extract the zip file to reveal the .mhd and .raw files."
      ],
      "metadata": {
        "id": "ekjby-JxB0pw"
      }
    },
    {
      "cell_type": "code",
      "source": [],
      "metadata": {
        "id": "rRovaXmHogCS"
      },
      "execution_count": null,
      "outputs": []
    },
    {
      "cell_type": "markdown",
      "source": [
        "2.2 Create a Pandas data frame that contains these 8 colums: `seriesuid`, `coordX`, `coordY`, `coordZ`, `class`, `index`, `row`, `col`. The last three columns should be calculated using the three coordiantes and the information about the origin and spacing of the corresponding CT scan."
      ],
      "metadata": {
        "id": "suwnYlhxAyJl"
      }
    },
    {
      "cell_type": "code",
      "source": [],
      "metadata": {
        "id": "DOr2TlTpBQ8u"
      },
      "execution_count": null,
      "outputs": []
    },
    {
      "cell_type": "markdown",
      "source": [
        "2.3 Save the data frame as a CSV file named `candiadates_processed.csv`. This allows you to skip Step 2.2 in future calculations.\n",
        "\n",
        "\n"
      ],
      "metadata": {
        "id": "APzzVDhJCMg4"
      }
    },
    {
      "cell_type": "code",
      "source": [],
      "metadata": {
        "id": "yBysrQubo3Av"
      },
      "execution_count": null,
      "outputs": []
    },
    {
      "cell_type": "markdown",
      "source": [
        "## 3. Create Data Tensors\n",
        "\n",
        "The neural network model we will build with PyTorch requires the data to be presented in the form of a torch tensor. The input tensor should be 4-dimensional, with the dimensions representing the nodule index, channel, row, and column, respectively."
      ],
      "metadata": {
        "id": "r0kBg0Yio6tO"
      }
    },
    {
      "cell_type": "markdown",
      "source": [
        "3.1 Write a double for-loop to extract the CT scan data for **the first 5,000*** nodules:\n",
        "- The outer for loop goes through all the distince seriesuid's.\n",
        "- For each iteration of the outer loop, load the corresponding CT-scan file and create a torch tensor to represent the scan.\n",
        "- Create an inner-loop that goes through the nodules corresponding to the seriesuid:\n",
        "    - Load the (index, row, col) tuple of this nodule from the data frame.\n",
        "    - Extract a 32x48x48 chunk centered at the (index, row, col). If the nodule is near the edge of the image and there is not enough indices to extract, please pad with zeros to keep the overall shape unchanged.\n",
        "    - Use a 4D tensor to contain all the 32x48x48 chunks. The first dimension of the 4D tensor is the index of nodule.\n",
        "\n",
        "You may modify the above procedure as you like. Make sure that you are able to obtain a 4D tensor that contains all nodule data. **Display the shape of the 4D tensor.** The shape of the tensor should be (5000, 32, 48, 48).\n",
        "\n",
        "**Remark** Due to the memory limit, it is impossible to load all nodule images into simultanously. Therefore, the number of nodules required in this section is reduced to 5,000. Feel free to adjust this number to prevent the out-of-memory error."
      ],
      "metadata": {
        "id": "S5n8827EBRKc"
      }
    },
    {
      "cell_type": "code",
      "source": [],
      "metadata": {
        "id": "Z2nv59_0EMHa"
      },
      "execution_count": null,
      "outputs": []
    },
    {
      "cell_type": "markdown",
      "source": [
        "3.2 Create a 1D tensor to contain all the class information."
      ],
      "metadata": {
        "id": "bgcIKmb3vpXR"
      }
    },
    {
      "cell_type": "code",
      "source": [],
      "metadata": {
        "id": "MKjfdls5vty3"
      },
      "execution_count": null,
      "outputs": []
    },
    {
      "cell_type": "markdown",
      "source": [
        "3.3 Split the 4D tensor into a training set and a test set. Display their shapes."
      ],
      "metadata": {
        "id": "ndbz7_LjEM88"
      }
    },
    {
      "cell_type": "code",
      "source": [],
      "metadata": {
        "id": "G6JBKlQ5FAys"
      },
      "execution_count": null,
      "outputs": []
    },
    {
      "cell_type": "markdown",
      "source": [
        "## 4. Model Design and Implementation"
      ],
      "metadata": {
        "id": "24KcclJsENbd"
      }
    },
    {
      "cell_type": "markdown",
      "source": [
        "4.1 Design a neural network model with only a flatten layer and two dense layers for classifying lung nodules. You may experiment with different sizes for the hidden layers to improve the training results."
      ],
      "metadata": {
        "id": "Z7KXp4J0EQvs"
      }
    },
    {
      "cell_type": "code",
      "source": [],
      "metadata": {
        "id": "p8PtyhoAEmhC"
      },
      "execution_count": null,
      "outputs": []
    },
    {
      "cell_type": "markdown",
      "source": [
        "4.2 Create an object to represent the loss function."
      ],
      "metadata": {
        "id": "VcDL-bz0Em61"
      }
    },
    {
      "cell_type": "code",
      "source": [],
      "metadata": {
        "id": "NmqChQUaEmNU"
      },
      "execution_count": null,
      "outputs": []
    },
    {
      "cell_type": "markdown",
      "source": [
        "4.3 Create an object to represent the optimizer."
      ],
      "metadata": {
        "id": "2zTdz_qyEt4T"
      }
    },
    {
      "cell_type": "code",
      "source": [],
      "metadata": {
        "id": "qm_G-iVfEwQ7"
      },
      "execution_count": null,
      "outputs": []
    },
    {
      "cell_type": "markdown",
      "source": [
        "4.4 Create a function to represent the training loop.\n"
      ],
      "metadata": {
        "id": "3wwyhtrFEwe_"
      }
    },
    {
      "cell_type": "code",
      "source": [],
      "metadata": {
        "id": "JIoSK7NIEzsy"
      },
      "execution_count": null,
      "outputs": []
    },
    {
      "cell_type": "markdown",
      "source": [
        "4.5 Execute the training loop. Display the change of training loss during the training process. Choose a reasonable value for the number of training epochs based on your observations."
      ],
      "metadata": {
        "id": "LQeI4It3Ez-Z"
      }
    },
    {
      "cell_type": "code",
      "source": [],
      "metadata": {
        "id": "mziEz2wmFCMf"
      },
      "execution_count": null,
      "outputs": []
    },
    {
      "cell_type": "markdown",
      "source": [
        "## 5. Model Evaluation and Analysis"
      ],
      "metadata": {
        "id": "SFZmUtk4FCnP"
      }
    },
    {
      "cell_type": "markdown",
      "source": [
        "5.1 Obtain the model's prediction on the test set."
      ],
      "metadata": {
        "id": "fdMogOg0FF7F"
      }
    },
    {
      "cell_type": "code",
      "source": [],
      "metadata": {
        "id": "LxFOCkdvFFtm"
      },
      "execution_count": null,
      "outputs": []
    },
    {
      "cell_type": "markdown",
      "source": [
        "5.2 Calculate the report the following metrics:\n",
        "- accuracy\n",
        "- precision\n",
        "- recall"
      ],
      "metadata": {
        "id": "yRRTayzmFLTy"
      }
    },
    {
      "cell_type": "markdown",
      "source": [
        "5.3: Discuss the model's performance."
      ],
      "metadata": {
        "id": "iEJDyFKpFScI"
      }
    },
    {
      "cell_type": "code",
      "source": [],
      "metadata": {
        "id": "sWjsJxE9FYlb"
      },
      "execution_count": null,
      "outputs": []
    },
    {
      "cell_type": "markdown",
      "source": [
        "## 6. Data Augmentation and Retraining\n",
        "\n",
        "To enhance the model's performance, it is essential to increase the number of malignant instances. Apply random shifting and rotation to generate new training instances, ensuring an equal number of instances in each class within the training set."
      ],
      "metadata": {
        "id": "SZfRj3rpqk1D"
      }
    },
    {
      "cell_type": "markdown",
      "source": [
        "6.1 Augment the number of malignent instances in the training set."
      ],
      "metadata": {
        "id": "fZTGy-K5rf85"
      }
    },
    {
      "cell_type": "code",
      "source": [],
      "metadata": {
        "id": "RK3-cio9rlo8"
      },
      "execution_count": null,
      "outputs": []
    },
    {
      "cell_type": "markdown",
      "source": [
        "6.2 Retrain the neural network model on the new training set."
      ],
      "metadata": {
        "id": "UxsuW3iLrmFC"
      }
    },
    {
      "cell_type": "code",
      "source": [],
      "metadata": {
        "id": "PhwG0PcersGy"
      },
      "execution_count": null,
      "outputs": []
    },
    {
      "cell_type": "markdown",
      "source": [
        "6.3 Perform model evaluation and compare the performance of the new model to the old model."
      ],
      "metadata": {
        "id": "ofURek20rsco"
      }
    },
    {
      "cell_type": "code",
      "source": [],
      "metadata": {
        "id": "U7ZEVZP8r0X1"
      },
      "execution_count": null,
      "outputs": []
    }
  ]
}